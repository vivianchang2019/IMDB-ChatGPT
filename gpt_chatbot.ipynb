{
 "cells": [
  {
   "cell_type": "code",
   "execution_count": 13,
   "id": "1d8e1971",
   "metadata": {},
   "outputs": [],
   "source": [
    "from secrets import *\n",
    "import openai"
   ]
  },
  {
   "cell_type": "code",
   "execution_count": 14,
   "id": "a3668e06",
   "metadata": {},
   "outputs": [],
   "source": [
    "openai.api_key = chatgpi_api_key"
   ]
  },
  {
   "cell_type": "markdown",
   "id": "9d32424e",
   "metadata": {},
   "source": [
    "## 使用 Python 串接 OpenAI API"
   ]
  },
  {
   "cell_type": "code",
   "execution_count": 55,
   "id": "9c5924b8",
   "metadata": {},
   "outputs": [],
   "source": [
    "class ChatGPIResponse:\n",
    "    def __init__(self, question, reponse_text, model):\n",
    "        self.question = question\n",
    "        self.reponse_text = reponse_text\n",
    "        self.model = model\n",
    "\n",
    "    def __str__(self):\n",
    "        return \"question : {}\\nresponse : {}\\nmodel : {}\".format(self.question, self.reponse_text, self.model)"
   ]
  },
  {
   "cell_type": "code",
   "execution_count": 56,
   "id": "e0ec06e7",
   "metadata": {},
   "outputs": [],
   "source": [
    "def get_chatbot_response(question):\n",
    "    \n",
    "    model = \"gpt-3.5-turbo\"\n",
    "\n",
    "    completion = openai.ChatCompletion.create(\n",
    "        model=model,\n",
    "        max_tokens = 50,\n",
    "        temperature= 0.5,\n",
    "        messages=[\n",
    "            {\"role\": \"user\", \"content\": question}\n",
    "        ]\n",
    "    )\n",
    "    \n",
    "    reponse_text = completion.choices[0].message.content\n",
    "    reponse_instance = ChatGPIResponse(question, reponse_text, model)\n",
    "    return reponse_instance"
   ]
  },
  {
   "cell_type": "code",
   "execution_count": 57,
   "id": "74bcb898",
   "metadata": {},
   "outputs": [
    {
     "name": "stdout",
     "output_type": "stream",
     "text": [
      "question : 講個笑話來聽聽\n",
      "response : 有一天，一個人走進一家餐廳，點了一份牛排。當他開始吃的時候，他發現牛排有\n",
      "model : gpt-3.5-turbo\n"
     ]
    }
   ],
   "source": [
    "response = get_chatbot_response(\"講個笑話來聽聽\")\n",
    "# print(type(response))\n",
    "print(response)"
   ]
  },
  {
   "cell_type": "code",
   "execution_count": null,
   "id": "6241be5d",
   "metadata": {},
   "outputs": [],
   "source": []
  },
  {
   "cell_type": "markdown",
   "id": "99eee76f",
   "metadata": {},
   "source": [
    "## 串連上下文語句"
   ]
  },
  {
   "cell_type": "code",
   "execution_count": 61,
   "id": "c791bbef",
   "metadata": {},
   "outputs": [
    {
     "name": "stdout",
     "output_type": "stream",
     "text": [
      "me > give me a joke\n",
      "ai > Why don't scientists trust atoms?Because they make up everything.\n",
      "me > give me another one\n",
      "ai > Why did the tomato turn red? Because it saw the salad dressing!\n",
      "me > stop\n",
      "Goodbye\n"
     ]
    }
   ],
   "source": [
    "messages = []  # 設置初始上下文\n",
    "Status = True\n",
    "\n",
    "# 創建一個while循環，持續發送請求\n",
    "while Status:  \n",
    "    msg = input('me > ')\n",
    "    \n",
    "    \n",
    "    # 當user輸入\"stop\"，停止ChatGPI\n",
    "    if msg == 'stop':   \n",
    "        Status = False \n",
    "        print(f'Goodbye!')\n",
    "    \n",
    "    else:\n",
    "        messages.append({\"role\":\"user\",\"content\":msg})  # 添加 user 回應\n",
    "        \n",
    "        # 發送請求並獲取回應\n",
    "        response = openai.ChatCompletion.create(  \n",
    "            model=\"gpt-3.5-turbo\",\n",
    "            max_tokens=50,\n",
    "            temperature=0.5,\n",
    "            messages=messages\n",
    "        )\n",
    "        ai_msg = response.choices[0].message.content.replace('\\n','')  # 提取API生成的回應\n",
    "        messages.append({\"role\":\"assistant\",\"content\":ai_msg})   # 添加 ChatGPT 回應\n",
    "        print(f'ai > {ai_msg}')   # 將回應印出來"
   ]
  },
  {
   "cell_type": "code",
   "execution_count": null,
   "id": "879412a4",
   "metadata": {},
   "outputs": [],
   "source": []
  },
  {
   "cell_type": "code",
   "execution_count": null,
   "id": "4168664e",
   "metadata": {},
   "outputs": [],
   "source": []
  },
  {
   "cell_type": "code",
   "execution_count": null,
   "id": "ba5b97d8",
   "metadata": {},
   "outputs": [],
   "source": []
  }
 ],
 "metadata": {
  "kernelspec": {
   "display_name": "Python 3 (ipykernel)",
   "language": "python",
   "name": "python3"
  },
  "language_info": {
   "codemirror_mode": {
    "name": "ipython",
    "version": 3
   },
   "file_extension": ".py",
   "mimetype": "text/x-python",
   "name": "python",
   "nbconvert_exporter": "python",
   "pygments_lexer": "ipython3",
   "version": "3.9.12"
  }
 },
 "nbformat": 4,
 "nbformat_minor": 5
}
