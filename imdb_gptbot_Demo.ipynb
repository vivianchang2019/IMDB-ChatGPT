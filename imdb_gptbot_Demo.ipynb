{
 "cells": [
  {
   "cell_type": "markdown",
   "id": "ca64b31f",
   "metadata": {},
   "source": [
    "## 使用ChatGPT建置個人(IMDB電影)知識庫"
   ]
  },
  {
   "cell_type": "markdown",
   "id": "3873fd9c",
   "metadata": {},
   "source": [
    "運行流程:\n",
    "\n",
    "1. 安裝使用的套件\n",
    "2. 定義function，使用GPT 3.5 模型建立個人知識庫。\n",
    "3. 定義function，使用GPT建立問答方式。\n",
    "4. 提供使用API所需的密鑰與數據來源(個人資料庫)。\n",
    "5. 展示功能使用方式"
   ]
  },
  {
   "cell_type": "markdown",
   "id": "1c402198",
   "metadata": {},
   "source": [
    "## Build a personal (IMDB movie) knowledge base using ChatGPT.\n",
    "Process:\n",
    "\n",
    "1. Install required packages.\n",
    "2. Define functions to create a personal knowledge base using GPT 3.5 model.\n",
    "3. Define functions to establish question-and-answer format using GPT.\n",
    "4. Provide the API key and data source (personal database) required for use of API.\n",
    "5. Demonstrate how to use the Customerized AI."
   ]
  },
  {
   "cell_type": "code",
   "execution_count": null,
   "id": "37989b7c",
   "metadata": {},
   "outputs": [],
   "source": []
  },
  {
   "cell_type": "markdown",
   "id": "2cf6ad5c",
   "metadata": {},
   "source": [
    "### 1. 安裝使用的套件(Install required packages.)"
   ]
  },
  {
   "cell_type": "code",
   "execution_count": 6,
   "id": "3dc0a4ea",
   "metadata": {},
   "outputs": [],
   "source": [
    "# !pip install llama-index\n",
    "# !pip install langchain"
   ]
  },
  {
   "cell_type": "code",
   "execution_count": null,
   "id": "690ba491",
   "metadata": {},
   "outputs": [],
   "source": []
  },
  {
   "cell_type": "markdown",
   "id": "268b8583",
   "metadata": {},
   "source": [
    "### 2. 定義function，使用GPT模型建立個人知識庫。\n",
    "### (Define functions to create a personal knowledge base using GPT 3.5 model.)"
   ]
  },
  {
   "cell_type": "code",
   "execution_count": 16,
   "id": "14a9f97c",
   "metadata": {},
   "outputs": [],
   "source": [
    "from llama_index import SimpleDirectoryReader, GPTListIndex, readers, GPTSimpleVectorIndex, LLMPredictor, PromptHelper, ServiceContext\n",
    "from langchain import OpenAI\n",
    "import sys\n",
    "import os\n",
    "from IPython.display import Markdown, display\n",
    "\n",
    "def construct_index(directory_path):\n",
    "    # set maximum input size\n",
    "    max_input_size = 4096\n",
    "    # set number of output tokens\n",
    "    num_outputs = 2000\n",
    "    # set maximum chunk overlap\n",
    "    max_chunk_overlap = 20\n",
    "    # set chunk size limit\n",
    "    chunk_size_limit = 600 \n",
    "\n",
    "    # define prompt helper\n",
    "    prompt_helper = PromptHelper(max_input_size, num_outputs, max_chunk_overlap, chunk_size_limit=chunk_size_limit)\n",
    "\n",
    "    # define LLM\n",
    "    # llm_predictor = LLMPredictor(llm=OpenAI(temperature=0.5, model_name=\"text-davinci-003\", max_tokens=num_outputs))\n",
    "    llm_predictor = LLMPredictor(llm=OpenAI(temperature=0.5, model_name=\"gpt-3.5-turbo\", max_tokens=num_outputs))\n",
    "     \n",
    "    documents = SimpleDirectoryReader(directory_path).load_data()\n",
    "    \n",
    "    service_context = ServiceContext.from_defaults(llm_predictor=llm_predictor, prompt_helper=prompt_helper)\n",
    "    index = GPTSimpleVectorIndex.from_documents(documents, service_context=service_context)\n",
    "\n",
    "    index.save_to_disk('index.json')\n",
    "\n",
    "    return index"
   ]
  },
  {
   "cell_type": "code",
   "execution_count": null,
   "id": "b61c7fad",
   "metadata": {},
   "outputs": [],
   "source": []
  },
  {
   "cell_type": "markdown",
   "id": "903d5347",
   "metadata": {},
   "source": [
    "### 3. 定義function，使用GPT建立問答方式。\n",
    "### (Define functions to establish question-and-answer format using GPT.)"
   ]
  },
  {
   "cell_type": "code",
   "execution_count": 21,
   "id": "aa9504c9",
   "metadata": {},
   "outputs": [],
   "source": [
    "def ask_ai():\n",
    "    index = GPTSimpleVectorIndex.load_from_disk('index.json')\n",
    "    Status = True\n",
    "    \n",
    "    while Status: \n",
    "        query = input(\"What do you want to ask? >> \")\n",
    "        \n",
    "        # 當user輸入\"stop\"，停止ChatGPI\n",
    "        if query == 'stop':   \n",
    "            Status = False \n",
    "            print(f'Goodbye!')\n",
    "\n",
    "        else:\n",
    "            response = index.query(query)\n",
    "            display(Markdown(f\"Response: <b>{response.response}</b>\"))\n",
    "            print('='*20)"
   ]
  },
  {
   "cell_type": "code",
   "execution_count": null,
   "id": "8aa7fba2",
   "metadata": {},
   "outputs": [],
   "source": []
  },
  {
   "cell_type": "markdown",
   "id": "d6aa8c31",
   "metadata": {},
   "source": [
    "### 4. 提供使用API所需的密鑰與數據來源(個人資料庫)。 \n",
    "### (Provide the API key and data source (personal database) required for use of API.)"
   ]
  },
  {
   "cell_type": "code",
   "execution_count": 18,
   "id": "83a93650",
   "metadata": {},
   "outputs": [],
   "source": [
    "from api_secrets import *\n",
    "\n",
    "os.environ[\"OPENAI_API_KEY\"] = chatgpi_api_key"
   ]
  },
  {
   "cell_type": "code",
   "execution_count": 19,
   "id": "6e17b37d",
   "metadata": {},
   "outputs": [
    {
     "name": "stderr",
     "output_type": "stream",
     "text": [
      "INFO:llama_index.token_counter.token_counter:> [build_index_from_nodes] Total LLM token usage: 0 tokens\n",
      "INFO:llama_index.token_counter.token_counter:> [build_index_from_nodes] Total embedding token usage: 52583 tokens\n"
     ]
    },
    {
     "data": {
      "text/plain": [
       "<llama_index.indices.vector_store.vector_indices.GPTSimpleVectorIndex at 0x1a24a8a2c70>"
      ]
     },
     "execution_count": 19,
     "metadata": {},
     "output_type": "execute_result"
    }
   ],
   "source": [
    "construct_index(\"data\")"
   ]
  },
  {
   "cell_type": "code",
   "execution_count": null,
   "id": "dceb03b7",
   "metadata": {},
   "outputs": [],
   "source": []
  },
  {
   "cell_type": "markdown",
   "id": "8a9ba703",
   "metadata": {},
   "source": [
    "### 5.展示功能使用方式\n",
    "### (Demonstrate how to use the Customerized AI.)"
   ]
  },
  {
   "cell_type": "markdown",
   "id": "a8606027",
   "metadata": {},
   "source": [
    "Here shows **Three** customized questions of IMDB movie to test the AI:\n",
    "\n",
    ">1. According to user data, what is the top 1 to top 3 movie in IMDB ranking? (from webscraping data at 2023/04/18)\n",
    ">2. Which movie get the highest likes numbers of all movie?  (Likes data is a fake data given by user.)\n",
    ">3. Who is the director of the movie \"亂世兒女\"?"
   ]
  },
  {
   "cell_type": "code",
   "execution_count": 25,
   "id": "a8fd668c",
   "metadata": {},
   "outputs": [
    {
     "name": "stdout",
     "output_type": "stream",
     "text": [
      "What do you want to ask? >> According to user data, what is the top 1 to top 3 movie in IMDB ranking?\n"
     ]
    },
    {
     "name": "stderr",
     "output_type": "stream",
     "text": [
      "INFO:llama_index.token_counter.token_counter:> [query] Total LLM token usage: 4412 tokens\n",
      "INFO:llama_index.token_counter.token_counter:> [query] Total embedding token usage: 19 tokens\n"
     ]
    },
    {
     "data": {
      "text/markdown": [
       "Response: <b>\n",
       "\n",
       "The top 1 to top 3 movies in IMDB ranking according to user data are: \n",
       "1. 刺激1995 (9.2 rating, 333 likes)\n",
       "2. 教父 (9.2 rating, 616 likes)\n",
       "3. 黑暗騎士 (9.0 rating, 546 likes)\n",
       "4. 火線追緝令 (8.6 rating, 103 likes)</b>"
      ],
      "text/plain": [
       "<IPython.core.display.Markdown object>"
      ]
     },
     "metadata": {},
     "output_type": "display_data"
    },
    {
     "name": "stdout",
     "output_type": "stream",
     "text": [
      "====================\n",
      "What do you want to ask? >> Which movie get the highest likes numbers of all movie?\n"
     ]
    },
    {
     "name": "stderr",
     "output_type": "stream",
     "text": [
      "INFO:llama_index.token_counter.token_counter:> [query] Total LLM token usage: 4273 tokens\n",
      "INFO:llama_index.token_counter.token_counter:> [query] Total embedding token usage: 11 tokens\n"
     ]
    },
    {
     "data": {
      "text/markdown": [
       "Response: <b>\n",
       "\n",
       "The movie with the highest number of likes of all movies is 神鬼戰士, with a total of 596 likes. It is the Top 37 movie in the IMDB top 250 ranking, with a rating of 8.5. It is directed by Ridley Scott and stars Russell Crowe and Joaquin Phoenix. The information web page of this movie in IMDB website is https://www.imdb.com/title/tt0110357/.</b>"
      ],
      "text/plain": [
       "<IPython.core.display.Markdown object>"
      ]
     },
     "metadata": {},
     "output_type": "display_data"
    },
    {
     "name": "stdout",
     "output_type": "stream",
     "text": [
      "====================\n",
      "What do you want to ask? >> Who is the director of the movie \"亂世兒女\"?\n"
     ]
    },
    {
     "name": "stderr",
     "output_type": "stream",
     "text": [
      "INFO:llama_index.token_counter.token_counter:> [query] Total LLM token usage: 4205 tokens\n",
      "INFO:llama_index.token_counter.token_counter:> [query] Total embedding token usage: 16 tokens\n"
     ]
    },
    {
     "data": {
      "text/markdown": [
       "Response: <b>\n",
       "\n",
       "The director of the movie \"亂世兒女\" is Michel Gondry.</b>"
      ],
      "text/plain": [
       "<IPython.core.display.Markdown object>"
      ]
     },
     "metadata": {},
     "output_type": "display_data"
    },
    {
     "name": "stdout",
     "output_type": "stream",
     "text": [
      "====================\n",
      "What do you want to ask? >> stop\n",
      "Goodbye!\n"
     ]
    }
   ],
   "source": [
    "ask_ai()"
   ]
  },
  {
   "cell_type": "code",
   "execution_count": null,
   "id": "17b040d9",
   "metadata": {},
   "outputs": [],
   "source": []
  }
 ],
 "metadata": {
  "kernelspec": {
   "display_name": "Python 3 (ipykernel)",
   "language": "python",
   "name": "python3"
  },
  "language_info": {
   "codemirror_mode": {
    "name": "ipython",
    "version": 3
   },
   "file_extension": ".py",
   "mimetype": "text/x-python",
   "name": "python",
   "nbconvert_exporter": "python",
   "pygments_lexer": "ipython3",
   "version": "3.9.12"
  }
 },
 "nbformat": 4,
 "nbformat_minor": 5
}
